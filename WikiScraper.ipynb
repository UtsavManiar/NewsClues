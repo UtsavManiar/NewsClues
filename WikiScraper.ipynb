{
 "cells": [
  {
   "cell_type": "markdown",
   "metadata": {},
   "source": [
    "# Description of Notebook\n",
    "\n",
    "This notebook scrapes wikipedia pages of each crime listed to generate the vocabulary"
   ]
  },
  {
   "cell_type": "code",
   "execution_count": 1,
   "metadata": {},
   "outputs": [],
   "source": [
    "import requests\n",
    "import bs4\n",
    "import pandas as pd"
   ]
  },
  {
   "cell_type": "markdown",
   "metadata": {},
   "source": [
    "List of all the Crime related pages that needs to be scrapped "
   ]
  },
  {
   "cell_type": "code",
   "execution_count": 2,
   "metadata": {},
   "outputs": [],
   "source": [
    "crimes = ['Organized_crime','Violent_crime','Money_laundering', 'International_sanctions', 'Terrorism_financing', 'Illegal_drug_trade', 'Political_corruption','Human_trafficking','Sex_trafficking', 'Underground_poker', 'Bribery', 'Graft_(politics)', 'Kickback_(bribery)', 'Tax_evasion', 'Insider_trading', 'Securities_fraud', 'Corporate_crime', 'Fraud', 'Internet_fraud', 'Counterfeit', 'Forgery', 'Cybercrime', 'Larceny', 'Romance_scam']"
   ]
  },
  {
   "cell_type": "markdown",
   "metadata": {},
   "source": [
    "# Scrapping logic"
   ]
  },
  {
   "cell_type": "markdown",
   "metadata": {},
   "source": [
    "Scrape the pages using BeautifulSoup library and create a dataframe of content of scrapped pages"
   ]
  },
  {
   "cell_type": "code",
   "execution_count": 3,
   "metadata": {},
   "outputs": [],
   "source": [
    "d = []\n",
    "for c in crimes:\n",
    "    z = []\n",
    "    res = requests.get('https://en.wikipedia.org/wiki/'+c)\n",
    "    res.raise_for_status()\n",
    "    wiki = bs4.BeautifulSoup(res.text,\"html.parser\")\n",
    "    for i in wiki.select('p'):\n",
    "        x=(i.getText())\n",
    "        z.append(x)\n",
    "    str1 = ''.join(z)\n",
    "    d.append(\n",
    "        {\n",
    "            'crime': c,\n",
    "            'content': str1\n",
    "        }\n",
    "    )   \n",
    "        \n",
    "df = pd.DataFrame(d) "
   ]
  },
  {
   "cell_type": "code",
   "execution_count": 4,
   "metadata": {
    "scrolled": false
   },
   "outputs": [
    {
     "data": {
      "text/html": [
       "<div>\n",
       "<style scoped>\n",
       "    .dataframe tbody tr th:only-of-type {\n",
       "        vertical-align: middle;\n",
       "    }\n",
       "\n",
       "    .dataframe tbody tr th {\n",
       "        vertical-align: top;\n",
       "    }\n",
       "\n",
       "    .dataframe thead th {\n",
       "        text-align: right;\n",
       "    }\n",
       "</style>\n",
       "<table border=\"1\" class=\"dataframe\">\n",
       "  <thead>\n",
       "    <tr style=\"text-align: right;\">\n",
       "      <th></th>\n",
       "      <th>crime</th>\n",
       "      <th>content</th>\n",
       "    </tr>\n",
       "  </thead>\n",
       "  <tbody>\n",
       "    <tr>\n",
       "      <th>0</th>\n",
       "      <td>Organized_crime</td>\n",
       "      <td>Organized crime is a category of transnational...</td>\n",
       "    </tr>\n",
       "    <tr>\n",
       "      <th>1</th>\n",
       "      <td>Violent_crime</td>\n",
       "      <td>A violent crime or crime of violence is a crim...</td>\n",
       "    </tr>\n",
       "    <tr>\n",
       "      <th>2</th>\n",
       "      <td>Money_laundering</td>\n",
       "      <td>\\nMoney laundering is the illegal process of c...</td>\n",
       "    </tr>\n",
       "    <tr>\n",
       "      <th>3</th>\n",
       "      <td>International_sanctions</td>\n",
       "      <td>International sanctions are political and econ...</td>\n",
       "    </tr>\n",
       "    <tr>\n",
       "      <th>4</th>\n",
       "      <td>Terrorism_financing</td>\n",
       "      <td>Terrorism financing is the provision of funds ...</td>\n",
       "    </tr>\n",
       "    <tr>\n",
       "      <th>5</th>\n",
       "      <td>Illegal_drug_trade</td>\n",
       "      <td>The illegal drug trade or drug trafficking is ...</td>\n",
       "    </tr>\n",
       "    <tr>\n",
       "      <th>6</th>\n",
       "      <td>Political_corruption</td>\n",
       "      <td>\\nPolitical corruption is the use of powers by...</td>\n",
       "    </tr>\n",
       "    <tr>\n",
       "      <th>7</th>\n",
       "      <td>Human_trafficking</td>\n",
       "      <td>\\nHuman trafficking is the trade of humans  fo...</td>\n",
       "    </tr>\n",
       "    <tr>\n",
       "      <th>8</th>\n",
       "      <td>Sex_trafficking</td>\n",
       "      <td>Sex trafficking is human trafficking for the p...</td>\n",
       "    </tr>\n",
       "    <tr>\n",
       "      <th>9</th>\n",
       "      <td>Underground_poker</td>\n",
       "      <td>Underground poker is poker played in a venue t...</td>\n",
       "    </tr>\n",
       "    <tr>\n",
       "      <th>10</th>\n",
       "      <td>Bribery</td>\n",
       "      <td>Bribery is defined by Black's Law Dictionary a...</td>\n",
       "    </tr>\n",
       "    <tr>\n",
       "      <th>11</th>\n",
       "      <td>Graft_(politics)</td>\n",
       "      <td>Graft, as understood in American English, is a...</td>\n",
       "    </tr>\n",
       "    <tr>\n",
       "      <th>12</th>\n",
       "      <td>Kickback_(bribery)</td>\n",
       "      <td>A kickback is a form of negotiated bribery in ...</td>\n",
       "    </tr>\n",
       "    <tr>\n",
       "      <th>13</th>\n",
       "      <td>Tax_evasion</td>\n",
       "      <td>Tax evasion is the illegal evasion of taxes by...</td>\n",
       "    </tr>\n",
       "    <tr>\n",
       "      <th>14</th>\n",
       "      <td>Insider_trading</td>\n",
       "      <td>Insider trading is the trading of a public com...</td>\n",
       "    </tr>\n",
       "    <tr>\n",
       "      <th>15</th>\n",
       "      <td>Securities_fraud</td>\n",
       "      <td>Securities fraud, also known as stock fraud an...</td>\n",
       "    </tr>\n",
       "    <tr>\n",
       "      <th>16</th>\n",
       "      <td>Corporate_crime</td>\n",
       "      <td>In criminology, corporate crime refers to crim...</td>\n",
       "    </tr>\n",
       "    <tr>\n",
       "      <th>17</th>\n",
       "      <td>Fraud</td>\n",
       "      <td>\\nIn law, fraud is intentional deception to se...</td>\n",
       "    </tr>\n",
       "    <tr>\n",
       "      <th>18</th>\n",
       "      <td>Internet_fraud</td>\n",
       "      <td>Internet fraud is a type of cybercrime fraud o...</td>\n",
       "    </tr>\n",
       "    <tr>\n",
       "      <th>19</th>\n",
       "      <td>Counterfeit</td>\n",
       "      <td>To counterfeit means to imitate something auth...</td>\n",
       "    </tr>\n",
       "    <tr>\n",
       "      <th>20</th>\n",
       "      <td>Forgery</td>\n",
       "      <td>Forgery is a white-collar crime that generally...</td>\n",
       "    </tr>\n",
       "    <tr>\n",
       "      <th>21</th>\n",
       "      <td>Cybercrime</td>\n",
       "      <td>\\nCybercrime, or computer-oriented crime, is a...</td>\n",
       "    </tr>\n",
       "    <tr>\n",
       "      <th>22</th>\n",
       "      <td>Larceny</td>\n",
       "      <td>Larceny is a crime involving the unlawful taki...</td>\n",
       "    </tr>\n",
       "    <tr>\n",
       "      <th>23</th>\n",
       "      <td>Romance_scam</td>\n",
       "      <td>\\nA romance scam is a confidence trick involvi...</td>\n",
       "    </tr>\n",
       "  </tbody>\n",
       "</table>\n",
       "</div>"
      ],
      "text/plain": [
       "                      crime                                            content\n",
       "0           Organized_crime  Organized crime is a category of transnational...\n",
       "1             Violent_crime  A violent crime or crime of violence is a crim...\n",
       "2          Money_laundering  \\nMoney laundering is the illegal process of c...\n",
       "3   International_sanctions  International sanctions are political and econ...\n",
       "4       Terrorism_financing  Terrorism financing is the provision of funds ...\n",
       "5        Illegal_drug_trade  The illegal drug trade or drug trafficking is ...\n",
       "6      Political_corruption  \\nPolitical corruption is the use of powers by...\n",
       "7         Human_trafficking  \\nHuman trafficking is the trade of humans  fo...\n",
       "8           Sex_trafficking  Sex trafficking is human trafficking for the p...\n",
       "9         Underground_poker  Underground poker is poker played in a venue t...\n",
       "10                  Bribery  Bribery is defined by Black's Law Dictionary a...\n",
       "11         Graft_(politics)  Graft, as understood in American English, is a...\n",
       "12       Kickback_(bribery)  A kickback is a form of negotiated bribery in ...\n",
       "13              Tax_evasion  Tax evasion is the illegal evasion of taxes by...\n",
       "14          Insider_trading  Insider trading is the trading of a public com...\n",
       "15         Securities_fraud  Securities fraud, also known as stock fraud an...\n",
       "16          Corporate_crime  In criminology, corporate crime refers to crim...\n",
       "17                    Fraud  \\nIn law, fraud is intentional deception to se...\n",
       "18           Internet_fraud  Internet fraud is a type of cybercrime fraud o...\n",
       "19              Counterfeit  To counterfeit means to imitate something auth...\n",
       "20                  Forgery  Forgery is a white-collar crime that generally...\n",
       "21               Cybercrime  \\nCybercrime, or computer-oriented crime, is a...\n",
       "22                  Larceny  Larceny is a crime involving the unlawful taki...\n",
       "23             Romance_scam  \\nA romance scam is a confidence trick involvi..."
      ]
     },
     "execution_count": 4,
     "metadata": {},
     "output_type": "execute_result"
    }
   ],
   "source": [
    "df"
   ]
  },
  {
   "cell_type": "markdown",
   "metadata": {},
   "source": [
    "Convert dataframe into csv file "
   ]
  },
  {
   "cell_type": "code",
   "execution_count": 5,
   "metadata": {},
   "outputs": [],
   "source": [
    "df.to_csv('wiki.csv', index=False)"
   ]
  }
 ],
 "metadata": {
  "kernelspec": {
   "display_name": "Python 3",
   "language": "python",
   "name": "python3"
  },
  "language_info": {
   "codemirror_mode": {
    "name": "ipython",
    "version": 3
   },
   "file_extension": ".py",
   "mimetype": "text/x-python",
   "name": "python",
   "nbconvert_exporter": "python",
   "pygments_lexer": "ipython3",
   "version": "3.7.6"
  }
 },
 "nbformat": 4,
 "nbformat_minor": 4
}
