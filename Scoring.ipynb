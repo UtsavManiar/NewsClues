{
 "cells": [
  {
   "cell_type": "markdown",
   "metadata": {},
   "source": [
    "# Description of Notebook\n",
    "\n",
    "This notebook caculates the score of each record for each predicted tier seperately by taking into account the count of linked parties involved and number of external sources the person is mentioned in and returns the ordered list"
   ]
  },
  {
   "cell_type": "code",
   "execution_count": 1,
   "metadata": {},
   "outputs": [],
   "source": [
    "import pandas as pd\n",
    "import re"
   ]
  },
  {
   "cell_type": "markdown",
   "metadata": {},
   "source": [
    "## Sort high risk rated worldcheck file \n",
    "\n",
    "Count # of linked parties and # external sources the person is mentioned, generate final score and sort dataframe based on total score"
   ]
  },
  {
   "cell_type": "code",
   "execution_count": 2,
   "metadata": {},
   "outputs": [
    {
     "name": "stderr",
     "output_type": "stream",
     "text": [
      "C:\\Users\\utsav\\anaconda3\\lib\\site-packages\\IPython\\core\\interactiveshell.py:3063: DtypeWarning: Columns (10,11,31,33) have mixed types.Specify dtype option on import or set low_memory=False.\n",
      "  interactivity=interactivity, compiler=compiler, result=result)\n"
     ]
    }
   ],
   "source": [
    "#reading file\n",
    "df1 = pd.read_csv('high_rated_worldcheck.csv')"
   ]
  },
  {
   "cell_type": "code",
   "execution_count": 4,
   "metadata": {},
   "outputs": [],
   "source": [
    "def count_link(data):\n",
    "    \"\"\"counts number of linked parties\"\"\"\n",
    "    x = str(data)\n",
    "    y = x.split(\";\")\n",
    "    return (len(y))\n",
    "\n",
    "df1['link_count'] = df1['LINKED TO'].apply(count_link)"
   ]
  },
  {
   "cell_type": "code",
   "execution_count": 5,
   "metadata": {},
   "outputs": [],
   "source": [
    "def count_url(data):\n",
    "    \"\"\"counts number of external sources person is mentioned in\"\"\"\n",
    "    urls = re.findall(\"(?P<url>https?://[^\\s]+)\", data)\n",
    "    return (len(urls))\n",
    "\n",
    "df1['url_count'] = df1['EXTERNAL SOURCES'].apply(count_url)"
   ]
  },
  {
   "cell_type": "code",
   "execution_count": 6,
   "metadata": {
    "scrolled": true
   },
   "outputs": [],
   "source": [
    "def link_score(data):\n",
    "    \"\"\"score of each record based on criteria\"\"\"\n",
    "    score1 = 0\n",
    "    if data in range(1,26):\n",
    "        score1 = 16\n",
    "    elif data in range(26,51):\n",
    "        score1 = 32\n",
    "    elif data in range(51,200):\n",
    "        score1 = 50\n",
    "    return score1\n",
    "\n",
    "df1['link_score'] = df1.link_count.apply(link_score)"
   ]
  },
  {
   "cell_type": "code",
   "execution_count": 7,
   "metadata": {},
   "outputs": [],
   "source": [
    "def url_score(data):\n",
    "    \"\"\"score of each record based on criteria\"\"\"\n",
    "    score1 = 0\n",
    "    if data in range(1,16):\n",
    "        score1 = 16\n",
    "    elif data in range(16,51):\n",
    "        score1 = 32\n",
    "    elif data in range(51,200):\n",
    "        score1 = 50\n",
    "    return score1\n",
    "\n",
    "df1['url_score'] = df1.link_count.apply(link_score)"
   ]
  },
  {
   "cell_type": "markdown",
   "metadata": {},
   "source": [
    "Final score by adding both the generated scores"
   ]
  },
  {
   "cell_type": "code",
   "execution_count": 8,
   "metadata": {},
   "outputs": [],
   "source": [
    "df1['score'] = df1.apply(lambda row: row['link_score'] + row['link_score'], axis=1)"
   ]
  },
  {
   "cell_type": "code",
   "execution_count": 15,
   "metadata": {
    "scrolled": true
   },
   "outputs": [],
   "source": [
    "df1 = df1.sort_values('score', ascending=False)"
   ]
  },
  {
   "cell_type": "code",
   "execution_count": 16,
   "metadata": {},
   "outputs": [],
   "source": [
    "df1.to_csv('sorted_highrated_worldcheck.csv')"
   ]
  },
  {
   "cell_type": "markdown",
   "metadata": {},
   "source": [
    "## Sort medium risk rated worldcheck file \n",
    "\n",
    "Count # of linked parties and # external sources the person is mentioned, generate final score and sort dataframe based on total score"
   ]
  },
  {
   "cell_type": "code",
   "execution_count": 23,
   "metadata": {},
   "outputs": [
    {
     "name": "stderr",
     "output_type": "stream",
     "text": [
      "C:\\Users\\utsav\\anaconda3\\lib\\site-packages\\IPython\\core\\interactiveshell.py:3063: DtypeWarning: Columns (10,11,15,27,30,31,32,33) have mixed types.Specify dtype option on import or set low_memory=False.\n",
      "  interactivity=interactivity, compiler=compiler, result=result)\n"
     ]
    }
   ],
   "source": [
    "df2 = pd.read_csv('medium_rated_worldcheck.csv')"
   ]
  },
  {
   "cell_type": "code",
   "execution_count": 24,
   "metadata": {},
   "outputs": [],
   "source": [
    "df2['link_count'] = df2['LINKED TO'].apply(count_link)\n",
    "df2['url_count'] = df2['EXTERNAL SOURCES'].apply(count_url)\n",
    "df2['link_score'] = df2.link_count.apply(link_score)\n",
    "df2['url_score'] = df2.link_count.apply(link_score)\n",
    "df2['score'] = df2.apply(lambda row: row['link_score'] + row['link_score'], axis=1)\n",
    "df2 = df2.sort_values('score', ascending=False)\n",
    "df2.to_csv('sorted_mediumrated_worldcheck.csv')"
   ]
  },
  {
   "cell_type": "markdown",
   "metadata": {},
   "source": [
    "## Sort low risk rated worldcheck file \n",
    "\n",
    "Count # of linked parties and # external sources the person is mentioned, generate final score and sort dataframe based on total score"
   ]
  },
  {
   "cell_type": "code",
   "execution_count": 26,
   "metadata": {},
   "outputs": [
    {
     "name": "stderr",
     "output_type": "stream",
     "text": [
      "C:\\Users\\utsav\\anaconda3\\lib\\site-packages\\IPython\\core\\interactiveshell.py:3063: DtypeWarning: Columns (32,33) have mixed types.Specify dtype option on import or set low_memory=False.\n",
      "  interactivity=interactivity, compiler=compiler, result=result)\n"
     ]
    }
   ],
   "source": [
    "df3 = pd.read_csv('low_rated_worldcheck.csv')"
   ]
  },
  {
   "cell_type": "code",
   "execution_count": 27,
   "metadata": {},
   "outputs": [],
   "source": [
    "df3['link_count'] = df3['LINKED TO'].apply(count_link)\n",
    "df3['url_count'] = df3['EXTERNAL SOURCES'].apply(count_url)\n",
    "df3['link_score'] = df3.link_count.apply(link_score)\n",
    "df3['url_score'] = df3.link_count.apply(link_score)\n",
    "df3['score'] = df3.apply(lambda row: row['link_score'] + row['link_score'], axis=1)\n",
    "df3 = df3.sort_values('score', ascending=False)\n",
    "df3.to_csv('sorted_lowrated_worldcheck.csv')"
   ]
  },
  {
   "cell_type": "markdown",
   "metadata": {},
   "source": [
    "## Append all 3 dataframes into one single dataframe"
   ]
  },
  {
   "cell_type": "code",
   "execution_count": 30,
   "metadata": {},
   "outputs": [],
   "source": [
    "df4 = df1.append(df2, ignore_index = True)"
   ]
  },
  {
   "cell_type": "code",
   "execution_count": 31,
   "metadata": {},
   "outputs": [],
   "source": [
    "df5 = df4.append(df3, ignore_index = True)"
   ]
  },
  {
   "cell_type": "markdown",
   "metadata": {},
   "source": [
    "## Store final sorted worldcheck file as csv"
   ]
  },
  {
   "cell_type": "code",
   "execution_count": 33,
   "metadata": {},
   "outputs": [],
   "source": [
    "df5.to_csv('final_sorted_worldcheck.csv')"
   ]
  }
 ],
 "metadata": {
  "kernelspec": {
   "display_name": "Python 3",
   "language": "python",
   "name": "python3"
  },
  "language_info": {
   "codemirror_mode": {
    "name": "ipython",
    "version": 3
   },
   "file_extension": ".py",
   "mimetype": "text/x-python",
   "name": "python",
   "nbconvert_exporter": "python",
   "pygments_lexer": "ipython3",
   "version": "3.7.6"
  }
 },
 "nbformat": 4,
 "nbformat_minor": 4
}
